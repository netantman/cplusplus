{
 "cells": [
  {
   "cell_type": "markdown",
   "metadata": {},
   "source": [
    "### What is an inline function?\n",
    "\n",
    "A function prefixed with the keyword `inline` before the function definition is called an inline function. The inline function are faster in execution when compared to normal functions as the compiler treats inline functions as macros."
   ]
  },
  {
   "cell_type": "markdown",
   "metadata": {},
   "source": [
    "### Do we have a native string in C++?\n",
    "\n",
    "No, it is a class in STL."
   ]
  },
  {
   "cell_type": "markdown",
   "metadata": {},
   "source": [
    "### Name the default standard streams in C++\n",
    "\n",
    "`cin`, `cout`, `cerr` and `clog`."
   ]
  },
  {
   "cell_type": "markdown",
   "metadata": {},
   "source": [
    "### How to allocate dynamic memory in C++?\n",
    "\n",
    "`new` to create and `delete` to release. By the way, we can also use the old-style `malloc` and `free`, though one cannot `free` the memory allocated by `new`.\n",
    "\n",
    "`new[]` and `delete[]` are operators to allocate/de-allocate an array of objects and return/nullify a pointer to the first element."
   ]
  },
  {
   "cell_type": "markdown",
   "metadata": {},
   "source": [
    "### What is a namespace?\n",
    "\n",
    "A namespace is the logical division of the code which can be used to resolve the name conflict of the identifiers by placing them under different name space. It can be specified by the scope resolution operator `::` or by the keyword `using`."
   ]
  },
  {
   "cell_type": "markdown",
   "metadata": {},
   "source": [
    "### What is a container class?\n",
    "\n",
    "A class containing at least one member variable of another class type in it."
   ]
  },
  {
   "cell_type": "markdown",
   "metadata": {},
   "source": [
    "### What is a token?\n",
    "\n",
    "A C++ program consists of various tokens and a token is either a keyword, an identifier, a constant, a string literal, or a symbol."
   ]
  },
  {
   "cell_type": "markdown",
   "metadata": {},
   "source": [
    "### What is a preprocessor?\n",
    "\n",
    "Preprocessor is a directive to the compiler to perform certain things before the actual compilation process begins."
   ]
  },
  {
   "cell_type": "markdown",
   "metadata": {},
   "source": [
    "### Which operator can be used to determine the size of a data type/class or variable/object?\n",
    "\n",
    "`sizeof`"
   ]
  },
  {
   "cell_type": "markdown",
   "metadata": {},
   "source": [
    "### What are the valid operations on pointers?\n",
    "\n",
    "There are only two: (1) comparison; (2) addition/subtractions (excluding `nullptr`)"
   ]
  },
  {
   "cell_type": "markdown",
   "metadata": {},
   "source": [
    "### What is the difference between including the header file with in-angular braces `<>` and double quotes `\"\"`?\n",
    "\n",
    "If a header file is included with `<>` then the compiler searches for the particular header file only within the built-in include path. If a header file is included using `\"\"`, then the compiler searches for the particular header file first in the current working directory, if not found then in the built-in include path."
   ]
  },
  {
   "cell_type": "markdown",
   "metadata": {},
   "source": [
    "### Which way is recommended to increment the value by 1, `s++` or `s=s+1`?\n",
    "\n",
    "The former, since it is single machine instruction internally.\n",
    "\n",
    "By the way, post-increment `s++` operator is more expensive than the pre-increment `++s` operator. The post-increment operator generates a copy of the element before proceeding with incrementing the element and returning the copy. That being said, no need to sweat over it: most compilers will automatically optimize `s++` by converting it implicitly into `++s`."
   ]
  },
  {
   "cell_type": "markdown",
   "metadata": {},
   "source": [
    "### What are the most important differences between C and C++?\n",
    "\n",
    "- C++ supports references while C doesn’t\n",
    "- Features like friend functions, function overloading, inheritance, templates, and virtual functions are inherent to C++. These are not available in the C programming language.\n",
    "- In C, exception handling is taken care of in the traditional if-else style. On the other hand, C++ offers support for exception handling at the language level.\n",
    "- Mainly used input and output in C are scanf() and printf(), respectively. In C++, cin is the standard input stream while cout serves as the standard output stream.\n",
    "- While C is a procedural programming language, C++ provides support for both procedural and object-oriented programming approaches."
   ]
  },
  {
   "cell_type": "markdown",
   "metadata": {},
   "source": [
    "### What is call by value and call by reference?\n",
    "\n",
    "In the call by value method, you pass the copies of actual parameters to the function's formal parameters. This means if there is any change in the values inside the function, then that change will not affect the actual values.\n",
    "\n",
    "In the call-by-reference method, the reference or address of actual parameters is sent to the function's formal parameters. This means any change in values inside the function will be reflected in the actual values."
   ]
  }
 ],
 "metadata": {
  "kernelspec": {
   "display_name": "Python 3",
   "language": "python",
   "name": "python3"
  },
  "language_info": {
   "codemirror_mode": {
    "name": "ipython",
    "version": 3
   },
   "file_extension": ".py",
   "mimetype": "text/x-python",
   "name": "python",
   "nbconvert_exporter": "python",
   "pygments_lexer": "ipython3",
   "version": "3.6.5"
  }
 },
 "nbformat": 4,
 "nbformat_minor": 2
}
