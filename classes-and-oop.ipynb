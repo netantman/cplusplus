{
 "cells": [
  {
   "cell_type": "markdown",
   "metadata": {},
   "source": [
    "### What is a class?\n",
    "\n",
    "Class is a an user defined data type, with enclosed data and methods."
   ]
  },
  {
   "cell_type": "markdown",
   "metadata": {},
   "source": [
    "### What is an object?\n",
    "\n",
    "An instance of the class."
   ]
  },
  {
   "cell_type": "markdown",
   "metadata": {},
   "source": [
    "### Define access specifier and its various types in C++\n",
    "\n",
    "- **Private** – Such class members can’t be accessed outside the class in which they are declared and are only accessible within the same class. Even child classes are disabled to access private members of its parent class.\n",
    "- **Protected** – In addition to the class in which they are declared, the child classes can access its parent class's protected members.\n",
    "- **Public** – Class members declared as public can be accessed throughout the program (code)"
   ]
  },
  {
   "cell_type": "markdown",
   "metadata": {},
   "source": [
    "### What is encapsulation?\n",
    "\n",
    "The process of binding the data and the functions acting on the data together in an entity (class) called."
   ]
  },
  {
   "cell_type": "markdown",
   "metadata": {},
   "source": [
    "### What is abstraction?\n",
    "\n",
    "Abstraction refers to hiding the internal implementation and exhibiting only the necessary details."
   ]
  },
  {
   "cell_type": "markdown",
   "metadata": {},
   "source": [
    "### What is inheritance?\n",
    "\n",
    "Inheritance is the process of acquiring the properties of the exiting class into the new class. The existing class is called as base/parent class and the inherited class is called as derived/child class."
   ]
  },
  {
   "cell_type": "markdown",
   "metadata": {},
   "source": [
    "### Explain Virtual Functions and the concept of Runtime Polymorphism in C++\n",
    "\n",
    "Any function when accompanying the virtual keyword exhibits the behavior of a virtual function. Unlike normal functions that are called in accordance with the type of pointer or reference used, virtual functions are called as per the type of the object pointed or referred.\n",
    "\n",
    "In simple terms, virtual functions resolve at runtime, not anytime sooner. Use of virtual functions could also be understood as writing a C++ program leveraging the concept of runtime polymorphism."
   ]
  },
  {
   "cell_type": "markdown",
   "metadata": {},
   "source": [
    "### What is a pure virtual function?\n",
    "\n",
    "A virtual function usually with no function body and assigned with a value of `=0` is called pure virtual function. Calling a pure virtual function from a constructor is undefined behavior even if it has an implementation."
   ]
  },
  {
   "cell_type": "markdown",
   "metadata": {},
   "source": [
    "### What is an abstract class in C++?\n",
    "\n",
    "A class with at least one pure function is called abstract class; on the other hand, the abstract class does not need to hold all pure virtual functions. We cannot instantiate an abstract class."
   ]
  },
  {
   "cell_type": "markdown",
   "metadata": {},
   "source": [
    "### What are static members or methods in a class?\n",
    "\n",
    "Inside a class definition, the keyword `static` declares members or methods that are not bound to class instances. \n",
    "\n",
    "Some important facts pertaining to the static members are:\n",
    "\n",
    "- Any static member function can’t be virtual\n",
    "- Static member functions don’t have ‘this’ pointer, similar to static functions does not have `self` in its signature in `python`. This is natural since static members/functions do not work on specific instances.\n",
    "- The `const`, `const volatile`, and `volatile` declaration aren’t available for static member functions\n",
    "- A static member can only access other static members of the class, similar to the case in `python`."
   ]
  },
  {
   "cell_type": "markdown",
   "metadata": {},
   "source": [
    "### What are the operators used to access class members?\n",
    "\n",
    "`.` and `->`."
   ]
  },
  {
   "cell_type": "markdown",
   "metadata": {},
   "source": [
    "### Can we initialize a class/struct member variables as soon as the same is defined?\n",
    "\n",
    "No, you will have to first create an instance of those, since then the memory allocation (by constructor) is completed."
   ]
  },
  {
   "cell_type": "markdown",
   "metadata": {},
   "source": [
    "### What is operator overloading?\n",
    "\n",
    "Defining a new job for the existing operator w.r.t. class objects."
   ]
  },
  {
   "cell_type": "markdown",
   "metadata": {},
   "source": [
    "### What is function overriding?\n",
    "\n",
    "Defining the functions within the base and derived class with the same signature and name where the base class's function is virtual.\n",
    "\n",
    "Simply speaking, declaring a method as virtual enables overriding, declaring a method as non-virtual disables overriding. Most Object Oriented Programming languages only support virtual methods, but strangely enough in C++ non-virtual is the default setting!"
   ]
  },
  {
   "cell_type": "markdown",
   "metadata": {},
   "source": [
    "### When a class member is defined outside of a class, which operator can be used to associate the function definition to a particular class?\n",
    "\n",
    "The scope resolution operator `::`"
   ]
  },
  {
   "cell_type": "markdown",
   "metadata": {},
   "source": [
    "### What is a desctructor? Can it be overloaded?\n",
    "\n",
    "A destructor is the member function of a class which has the same name as the class name and prefixed with `~`. It gets executed automatically w.r.t. the object as soon as the object loses its scope. It cannot be overloaded and the only form is without the parameters."
   ]
  },
  {
   "cell_type": "markdown",
   "metadata": {},
   "source": [
    "### What is a constructor? And what is the default constructor?\n",
    "\n",
    "A constructor is the member function of the class whose name is the same as the class name and get executed automatically as soon as the object is created.\n",
    "\n",
    "Every class does have a constructor provided for free by the compiler, if the programmer does not provide one. That constructor is known as the default constructor. If the programmer explicitly define a constructor with no parameters, the default constructor becomes what the programmer has defined."
   ]
  },
  {
   "cell_type": "markdown",
   "metadata": {},
   "source": [
    "### What is a friend function/class?\n",
    "\n",
    "A function which is not a member function of the class, but can access all its members. It is declared within the required class using the keyword `friend`.\n",
    "\n",
    "Similarly, a friend class can access all members of the target class. A friend class is created by putting the class declaration prefixed with the keyword `friend` in the destination class.\n",
    "\n",
    "Some important points about friend class and friend function:\n",
    "\n",
    "- Friendship is not inherited.\n",
    "- Friendship isn’t mutual, i.e., if some class called Friend is a friend of some other class called NotAFriend, then it doesn’t automatically become a friend of the Friend class.\n",
    "- The total number of friend classes and friend functions should be limited in a program as the overabundance of the same might lead to a depreciation of the concept of encapsulation of separate classes, which is an inherent and desirable quality of object-oriented programming."
   ]
  },
  {
   "cell_type": "markdown",
   "metadata": {},
   "source": [
    "### What is the pointer `this`?\n",
    "\n",
    "`this` is the pointer variable of the compiler that always holds the current active object's address. Functionally it is similar to `self` in `python`, except that `self` is an object in `python` but `this` is a pointer."
   ]
  },
  {
   "cell_type": "markdown",
   "metadata": {},
   "source": [
    "### What is the copy constructor?\n",
    "\n",
    "A copy constructor is the constructor which take an instance of the same class as the parameter, and construct the object.\n",
    "\n",
    "Copy Constructor can also be made private. \n",
    "\n",
    "A call to the Copy Constructor can happen in any of the following 4 scenarios when:\n",
    "- The compiler generates a temporary object\n",
    "- An object is constructed or based on some another object of the same class\n",
    "- An object of the class is returned by value\n",
    "- An object of the class is passed (i.e., to a function) by value as an argument"
   ]
  },
  {
   "cell_type": "markdown",
   "metadata": {},
   "source": [
    "### What is a virtual destructor?\n",
    "\n",
    "A virtual destructor ensures that the objects resources are released in the reverse order of the object being constructed w.r.t. inherited object."
   ]
  },
  {
   "cell_type": "markdown",
   "metadata": {},
   "source": [
    "### What is the difference between struct and class in C++?\n",
    "\n",
    "There are two important distinctions between a class and a structure in C++. These are:\n",
    "\n",
    "- When deriving a structure from a class or some other structure, the default access specifier for the base class or structure is public. On the contrary, default access specifier is private when deriving a class.\n",
    "- While the members of a structure are public by default, the members of a class are private by default"
   ]
  },
  {
   "cell_type": "markdown",
   "metadata": {},
   "source": [
    "### Is it legal to assign a base class object to a derived class pointer?\n",
    "\n",
    "No - but it should be OK to assign a derived class object to a base class pointer, which is what polymorphism is about."
   ]
  },
  {
   "cell_type": "markdown",
   "metadata": {},
   "source": [
    "## References\n",
    "\n",
    "- [C++ Interview Questions](https://www.tutorialspoint.com/cplusplus/cpp_interview_questions.htm)\n",
    "- [C++ Interview Questions and Answers](https://hackr.io/blog/cpp-interview-questions)"
   ]
  }
 ],
 "metadata": {
  "kernelspec": {
   "display_name": "Python 3",
   "language": "python",
   "name": "python3"
  },
  "language_info": {
   "codemirror_mode": {
    "name": "ipython",
    "version": 3
   },
   "file_extension": ".py",
   "mimetype": "text/x-python",
   "name": "python",
   "nbconvert_exporter": "python",
   "pygments_lexer": "ipython3",
   "version": "3.6.5"
  }
 },
 "nbformat": 4,
 "nbformat_minor": 2
}
